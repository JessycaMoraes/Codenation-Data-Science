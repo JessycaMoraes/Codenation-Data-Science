{
 "cells": [
  {
   "cell_type": "markdown",
   "metadata": {},
   "source": [
    "# Challenge 1\n",
    "\n",
    "For this challenge, we will work with the [Black Friday](https://www.kaggle.com/mehdidag/black-friday) dataset, which gathers data about purchase transactions in a retail store.\n",
    "\n",
    "We will use it to practice exploring datasets using pandas. You can do all the analysis in this same notebook, but the answers must be in the indicated places.\n",
    "\n",
    "> Note: Please do not change the name of the response functions."
   ]
  },
  {
   "cell_type": "markdown",
   "metadata": {},
   "source": [
    "## Analysis _Set up_"
   ]
  },
  {
   "cell_type": "code",
   "execution_count": 1,
   "metadata": {},
   "outputs": [],
   "source": [
    "import pandas as pd\n",
    "import numpy as np"
   ]
  },
  {
   "cell_type": "code",
   "execution_count": 2,
   "metadata": {},
   "outputs": [],
   "source": [
    "black_friday = pd.read_csv(\"black_friday.csv\")"
   ]
  },
  {
   "cell_type": "markdown",
   "metadata": {},
   "source": [
    "## Start your analysis from here"
   ]
  },
  {
   "cell_type": "code",
   "execution_count": 3,
   "metadata": {},
   "outputs": [],
   "source": [
    "df = black_friday"
   ]
  },
  {
   "cell_type": "markdown",
   "metadata": {},
   "source": [
    "## Question 1\n",
    "\n",
    "How many observations and columns are there in the dataset? Answer in tuple format `(n_observacoes, n_colunas)`."
   ]
  },
  {
   "cell_type": "code",
   "execution_count": 4,
   "metadata": {},
   "outputs": [],
   "source": [
    "def q1():\n",
    "    resposta_q1 = df.shape\n",
    "    return resposta_q1\n",
    "    pass"
   ]
  },
  {
   "cell_type": "markdown",
   "metadata": {},
   "source": [
    "## Question 2\n",
    "\n",
    "How many women are there between the ages of 26 and 35 in the dataset? Answer as a single scalar."
   ]
  },
  {
   "cell_type": "code",
   "execution_count": 5,
   "metadata": {},
   "outputs": [],
   "source": [
    "def q2():\n",
    "    resposta_q2 = df.query('Gender == \"F\" & Age == \"26-35\"').shape[0]\n",
    "    return resposta_q2\n",
    "    pass"
   ]
  },
  {
   "cell_type": "markdown",
   "metadata": {},
   "source": [
    "## Question 3\n",
    "\n",
    "How many unique users are there in the dataset? Answer as a single scalar."
   ]
  },
  {
   "cell_type": "code",
   "execution_count": 6,
   "metadata": {},
   "outputs": [],
   "source": [
    "def q3():\n",
    "    resposta_q3 = df['User_ID'].nunique()\n",
    "    return resposta_q3\n",
    "    pass"
   ]
  },
  {
   "cell_type": "markdown",
   "metadata": {},
   "source": [
    "## Question 4\n",
    "\n",
    "How many different data types are there in the dataset? Answer as a single scalar."
   ]
  },
  {
   "cell_type": "code",
   "execution_count": 7,
   "metadata": {},
   "outputs": [],
   "source": [
    "def q4():\n",
    "    resposta_q4 = df.dtypes.nunique()\n",
    "    return resposta_q4\n",
    "    pass"
   ]
  },
  {
   "cell_type": "markdown",
   "metadata": {},
   "source": [
    "## Question 5\n",
    "\n",
    "What percentage of records have at least one null value (`None`, `ǸaN` etc)? Answer as a single scalar between 0 and 1."
   ]
  },
  {
   "cell_type": "code",
   "execution_count": 8,
   "metadata": {},
   "outputs": [],
   "source": [
    "def q5():\n",
    "    resposta_q5 = ((df.shape[0] - df.dropna().shape[0]) / df.shape[0])\n",
    "    return resposta_q5\n",
    "    pass"
   ]
  },
  {
   "cell_type": "markdown",
   "metadata": {},
   "source": [
    "## Question 6\n",
    "\n",
    "How many null values ​​are there in the variable (column) with the highest number of nulls? Answer as a single scalar."
   ]
  },
  {
   "cell_type": "code",
   "execution_count": 9,
   "metadata": {},
   "outputs": [],
   "source": [
    "def q6():\n",
    "    resposta_q6 = df.isna().sum().max()\n",
    "    return int(resposta_q6)\n",
    "    pass"
   ]
  },
  {
   "cell_type": "markdown",
   "metadata": {},
   "source": [
    "## Question 7\n",
    "\n",
    "What is the most frequent value (not counting nulls) in `Product Category 3`? Answer as a single scalar."
   ]
  },
  {
   "cell_type": "code",
   "execution_count": 10,
   "metadata": {},
   "outputs": [],
   "source": [
    "def q7():\n",
    "    resposta_q7 = df['Product_Category_3'].value_counts(dropna = True).idxmax()\n",
    "    return resposta_q7\n",
    "    pass"
   ]
  },
  {
   "cell_type": "markdown",
   "metadata": {},
   "source": [
    "## Question 8\n",
    "\n",
    "What is the new mean of the variable (column) `Purchase` after its normalization? Answer as a single scalar."
   ]
  },
  {
   "cell_type": "code",
   "execution_count": 11,
   "metadata": {},
   "outputs": [],
   "source": [
    "def q8():\n",
    "    normalizacao = ((df['Purchase'] - df['Purchase'].min()) / (df['Purchase'].max() - df['Purchase'].min()))\n",
    "    resposta_q8 = normalizacao.mean()\n",
    "    return float(resposta_q8)\n",
    "    pass"
   ]
  },
  {
   "cell_type": "markdown",
   "metadata": {},
   "source": [
    "## Question 9\n",
    "\n",
    "How many occurrences between -1 and 1 inclusive are there of the variable `Purchase` after its standardization? Answer as a single scalar."
   ]
  },
  {
   "cell_type": "code",
   "execution_count": 12,
   "metadata": {},
   "outputs": [],
   "source": [
    "def q9():\n",
    "    padronizacao = ((df['Purchase'] - df['Purchase'].mean()) / df['Purchase'].std())\n",
    "    resposta_q9 = ((padronizacao >= -1) & (padronizacao <= 1)).sum()\n",
    "    return int(resposta_q9)\n",
    "    pass"
   ]
  },
  {
   "cell_type": "markdown",
   "metadata": {},
   "source": [
    "## Question 10\n",
    "\n",
    "Can we say that if an observation is null in `Product_Category_2` it is also null in `Product_Category_3`? Answer with a bool (`True`, `False`)."
   ]
  },
  {
   "cell_type": "code",
   "execution_count": 13,
   "metadata": {},
   "outputs": [],
   "source": [
    "def q10():\n",
    "    if (df['Product_Category_2'].isna().all()) == (df['Product_Category_3'].isna().all()):\n",
    "        resposta_q10 = True\n",
    "    else:\n",
    "        resposta_q10 = False\n",
    "    return resposta_q10\n",
    "    pass"
   ]
  }
 ],
 "metadata": {
  "kernelspec": {
   "display_name": "Python 3",
   "language": "python",
   "name": "python3"
  },
  "language_info": {
   "codemirror_mode": {
    "name": "ipython",
    "version": 3
   },
   "file_extension": ".py",
   "mimetype": "text/x-python",
   "name": "python",
   "nbconvert_exporter": "python",
   "pygments_lexer": "ipython3",
   "version": "3.7.4"
  }
 },
 "nbformat": 4,
 "nbformat_minor": 2
}
